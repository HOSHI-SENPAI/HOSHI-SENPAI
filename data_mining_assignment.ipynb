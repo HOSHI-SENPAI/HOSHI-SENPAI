{
  "metadata": {
    "kernelspec": {
      "language": "python",
      "display_name": "Python 3",
      "name": "python3"
    },
    "language_info": {
      "name": "python",
      "version": "3.10.12",
      "mimetype": "text/x-python",
      "codemirror_mode": {
        "name": "ipython",
        "version": 3
      },
      "pygments_lexer": "ipython3",
      "nbconvert_exporter": "python",
      "file_extension": ".py"
    },
    "colab": {
      "provenance": [],
      "include_colab_link": true
    }
  },
  "nbformat_minor": 0,
  "nbformat": 4,
  "cells": [
    {
      "cell_type": "markdown",
      "metadata": {
        "id": "view-in-github",
        "colab_type": "text"
      },
      "source": [
        "<a href=\"https://colab.research.google.com/github/HOSHI-SENPAI/HOSHI-SENPAI/blob/main/data_mining_assignment.ipynb\" target=\"_parent\"><img src=\"https://colab.research.google.com/assets/colab-badge.svg\" alt=\"Open In Colab\"/></a>"
      ]
    },
    {
      "cell_type": "code",
      "source": [
        "# This Python 3 environment comes with many helpful analytics libraries installed\n",
        "# It is defined by the kaggle/python Docker image: https://github.com/kaggle/docker-python\n",
        "# For example, here's several helpful packages to load\n",
        "\n",
        "import numpy as np # linear algebra\n",
        "import pandas as pd # data processing, CSV file I/O (e.g. pd.read_csv)\n",
        "\n",
        "# Input data files are available in the read-only \"../input/\" directory\n",
        "# For example, running this (by clicking run or pressing Shift+Enter) will list all files under the input directory\n",
        "\n",
        "import os\n",
        "for dirname, _, filenames in os.walk('/kaggle/input'):\n",
        "    for filename in filenames:\n",
        "        print(os.path.join(dirname, filename))\n",
        "\n",
        "# You can write up to 20GB to the current directory (/kaggle/working/) that gets preserved as output when you create a version using \"Save & Run All\"\n",
        "# You can also write temporary files to /kaggle/temp/, but they won't be saved outside of the current session"
      ],
      "metadata": {
        "_uuid": "8f2839f25d086af736a60e9eeb907d3b93b6e0e5",
        "_cell_guid": "b1076dfc-b9ad-4769-8c92-a6c4dae69d19",
        "execution": {
          "iopub.status.busy": "2023-07-31T15:47:15.396967Z",
          "iopub.execute_input": "2023-07-31T15:47:15.397396Z",
          "iopub.status.idle": "2023-07-31T15:47:15.439050Z",
          "shell.execute_reply.started": "2023-07-31T15:47:15.397335Z",
          "shell.execute_reply": "2023-07-31T15:47:15.438232Z"
        },
        "trusted": true,
        "id": "21n-OwFh0wnl",
        "outputId": "7c92b025-bb9e-4dc9-e07c-48676b2ae42d"
      },
      "execution_count": null,
      "outputs": [
        {
          "name": "stdout",
          "text": "/kaggle/input/milkquality/milknew.csv\n",
          "output_type": "stream"
        }
      ]
    },
    {
      "cell_type": "code",
      "source": [
        "data=pd.read_csv(\"/kaggle/input/milkquality/milknew.csv\")"
      ],
      "metadata": {
        "execution": {
          "iopub.status.busy": "2023-07-31T16:08:28.578842Z",
          "iopub.execute_input": "2023-07-31T16:08:28.579268Z",
          "iopub.status.idle": "2023-07-31T16:08:28.590102Z",
          "shell.execute_reply.started": "2023-07-31T16:08:28.579219Z",
          "shell.execute_reply": "2023-07-31T16:08:28.588857Z"
        },
        "trusted": true,
        "id": "jE1A8vfg0wnx"
      },
      "execution_count": null,
      "outputs": []
    },
    {
      "cell_type": "code",
      "source": [
        "data.head()"
      ],
      "metadata": {
        "execution": {
          "iopub.status.busy": "2023-07-31T16:08:29.335875Z",
          "iopub.execute_input": "2023-07-31T16:08:29.337003Z",
          "iopub.status.idle": "2023-07-31T16:08:29.352360Z",
          "shell.execute_reply.started": "2023-07-31T16:08:29.336965Z",
          "shell.execute_reply": "2023-07-31T16:08:29.351099Z"
        },
        "trusted": true,
        "id": "JOmA71at0wny",
        "outputId": "7c696f0c-36e4-4d91-fb8a-adb04ccdc91a"
      },
      "execution_count": null,
      "outputs": [
        {
          "execution_count": 48,
          "output_type": "execute_result",
          "data": {
            "text/plain": "    pH  Temprature  Taste  Odor  Fat   Turbidity  Colour   Grade\n0  6.6          35      1     0     1          0     254    high\n1  6.6          36      0     1     0          1     253    high\n2  8.5          70      1     1     1          1     246     low\n3  9.5          34      1     1     0          1     255     low\n4  6.6          37      0     0     0          0     255  medium",
            "text/html": "<div>\n<style scoped>\n    .dataframe tbody tr th:only-of-type {\n        vertical-align: middle;\n    }\n\n    .dataframe tbody tr th {\n        vertical-align: top;\n    }\n\n    .dataframe thead th {\n        text-align: right;\n    }\n</style>\n<table border=\"1\" class=\"dataframe\">\n  <thead>\n    <tr style=\"text-align: right;\">\n      <th></th>\n      <th>pH</th>\n      <th>Temprature</th>\n      <th>Taste</th>\n      <th>Odor</th>\n      <th>Fat</th>\n      <th>Turbidity</th>\n      <th>Colour</th>\n      <th>Grade</th>\n    </tr>\n  </thead>\n  <tbody>\n    <tr>\n      <th>0</th>\n      <td>6.6</td>\n      <td>35</td>\n      <td>1</td>\n      <td>0</td>\n      <td>1</td>\n      <td>0</td>\n      <td>254</td>\n      <td>high</td>\n    </tr>\n    <tr>\n      <th>1</th>\n      <td>6.6</td>\n      <td>36</td>\n      <td>0</td>\n      <td>1</td>\n      <td>0</td>\n      <td>1</td>\n      <td>253</td>\n      <td>high</td>\n    </tr>\n    <tr>\n      <th>2</th>\n      <td>8.5</td>\n      <td>70</td>\n      <td>1</td>\n      <td>1</td>\n      <td>1</td>\n      <td>1</td>\n      <td>246</td>\n      <td>low</td>\n    </tr>\n    <tr>\n      <th>3</th>\n      <td>9.5</td>\n      <td>34</td>\n      <td>1</td>\n      <td>1</td>\n      <td>0</td>\n      <td>1</td>\n      <td>255</td>\n      <td>low</td>\n    </tr>\n    <tr>\n      <th>4</th>\n      <td>6.6</td>\n      <td>37</td>\n      <td>0</td>\n      <td>0</td>\n      <td>0</td>\n      <td>0</td>\n      <td>255</td>\n      <td>medium</td>\n    </tr>\n  </tbody>\n</table>\n</div>"
          },
          "metadata": {}
        }
      ]
    },
    {
      "cell_type": "markdown",
      "source": [
        "Checking for nan values or missing values\n"
      ],
      "metadata": {
        "id": "GW3-VcnC0wn0"
      }
    },
    {
      "cell_type": "code",
      "source": [
        "[i for i in data.columns if data[i].isnull().any()]"
      ],
      "metadata": {
        "execution": {
          "iopub.status.busy": "2023-07-31T16:08:30.663987Z",
          "iopub.execute_input": "2023-07-31T16:08:30.664413Z",
          "iopub.status.idle": "2023-07-31T16:08:30.674997Z",
          "shell.execute_reply.started": "2023-07-31T16:08:30.664379Z",
          "shell.execute_reply": "2023-07-31T16:08:30.673766Z"
        },
        "trusted": true,
        "id": "TpQY4eUv0wn3",
        "outputId": "ba4eb0ca-f241-489c-b0d8-b51b185060fc"
      },
      "execution_count": null,
      "outputs": [
        {
          "execution_count": 49,
          "output_type": "execute_result",
          "data": {
            "text/plain": "[]"
          },
          "metadata": {}
        }
      ]
    },
    {
      "cell_type": "markdown",
      "source": [
        "no missing or nan value"
      ],
      "metadata": {
        "id": "H2KaYvFJ0wn5"
      }
    },
    {
      "cell_type": "code",
      "source": [
        "x_data=data.drop(\"Grade\",axis=1)\n",
        "y_data=data[\"Grade\"]"
      ],
      "metadata": {
        "execution": {
          "iopub.status.busy": "2023-07-31T16:08:33.810374Z",
          "iopub.execute_input": "2023-07-31T16:08:33.810764Z",
          "iopub.status.idle": "2023-07-31T16:08:33.816899Z",
          "shell.execute_reply.started": "2023-07-31T16:08:33.810733Z",
          "shell.execute_reply": "2023-07-31T16:08:33.815767Z"
        },
        "trusted": true,
        "id": "P_5mu-JN0wn6"
      },
      "execution_count": null,
      "outputs": []
    },
    {
      "cell_type": "code",
      "source": [
        "y_data.unique()"
      ],
      "metadata": {
        "execution": {
          "iopub.status.busy": "2023-07-31T16:08:34.474619Z",
          "iopub.execute_input": "2023-07-31T16:08:34.475365Z",
          "iopub.status.idle": "2023-07-31T16:08:34.483464Z",
          "shell.execute_reply.started": "2023-07-31T16:08:34.475320Z",
          "shell.execute_reply": "2023-07-31T16:08:34.482302Z"
        },
        "trusted": true,
        "id": "A0wTPEOV0wn8",
        "outputId": "ce3f1c47-9495-4bef-97ae-0e58875c3e37"
      },
      "execution_count": null,
      "outputs": [
        {
          "execution_count": 51,
          "output_type": "execute_result",
          "data": {
            "text/plain": "array(['high', 'low', 'medium'], dtype=object)"
          },
          "metadata": {}
        }
      ]
    },
    {
      "cell_type": "code",
      "source": [
        "y_data.head()"
      ],
      "metadata": {
        "execution": {
          "iopub.status.busy": "2023-07-31T16:23:25.213853Z",
          "iopub.execute_input": "2023-07-31T16:23:25.214237Z",
          "iopub.status.idle": "2023-07-31T16:23:25.222324Z",
          "shell.execute_reply.started": "2023-07-31T16:23:25.214206Z",
          "shell.execute_reply": "2023-07-31T16:23:25.221301Z"
        },
        "trusted": true,
        "id": "FdS-OtUZ0wn_",
        "outputId": "0413771a-b6fe-4970-9c79-3485888561d2"
      },
      "execution_count": null,
      "outputs": [
        {
          "execution_count": 74,
          "output_type": "execute_result",
          "data": {
            "text/plain": "0      high\n1      high\n2       low\n3       low\n4    medium\nName: Grade, dtype: object"
          },
          "metadata": {}
        }
      ]
    },
    {
      "cell_type": "code",
      "source": [
        "from sklearn.model_selection import train_test_split as e"
      ],
      "metadata": {
        "execution": {
          "iopub.status.busy": "2023-07-31T16:24:34.430296Z",
          "iopub.execute_input": "2023-07-31T16:24:34.431358Z",
          "iopub.status.idle": "2023-07-31T16:24:34.436176Z",
          "shell.execute_reply.started": "2023-07-31T16:24:34.431318Z",
          "shell.execute_reply": "2023-07-31T16:24:34.435007Z"
        },
        "trusted": true,
        "id": "tXHHdfxj0woC"
      },
      "execution_count": null,
      "outputs": []
    },
    {
      "cell_type": "code",
      "source": [
        "x_train, x_test , y_train , y_test = e(x_data, y_data)"
      ],
      "metadata": {
        "execution": {
          "iopub.status.busy": "2023-07-31T16:24:47.423095Z",
          "iopub.execute_input": "2023-07-31T16:24:47.423514Z",
          "iopub.status.idle": "2023-07-31T16:24:47.431188Z",
          "shell.execute_reply.started": "2023-07-31T16:24:47.423479Z",
          "shell.execute_reply": "2023-07-31T16:24:47.430194Z"
        },
        "trusted": true,
        "id": "zANUrDaZ0woF"
      },
      "execution_count": null,
      "outputs": []
    },
    {
      "cell_type": "code",
      "source": [
        "from sklearn.neighbors import KNeighborsClassifier\n"
      ],
      "metadata": {
        "execution": {
          "iopub.status.busy": "2023-07-31T16:26:34.133745Z",
          "iopub.execute_input": "2023-07-31T16:26:34.134147Z",
          "iopub.status.idle": "2023-07-31T16:26:34.139584Z",
          "shell.execute_reply.started": "2023-07-31T16:26:34.134116Z",
          "shell.execute_reply": "2023-07-31T16:26:34.138428Z"
        },
        "trusted": true,
        "id": "LL55aW5i0woG"
      },
      "execution_count": null,
      "outputs": []
    },
    {
      "cell_type": "code",
      "source": [
        "knn=KNeighborsClassifier(n_neighbors=2)\n",
        "knn.fit(x_train,y_train)\n",
        "print(f\"\"\"Training score:{knn.score(x_train,y_train)} and Test score: {knn.score(x_test,y_test)}\"\"\")\n",
        "\n"
      ],
      "metadata": {
        "execution": {
          "iopub.status.busy": "2023-07-31T16:35:38.095934Z",
          "iopub.execute_input": "2023-07-31T16:35:38.096888Z",
          "iopub.status.idle": "2023-07-31T16:35:38.155674Z",
          "shell.execute_reply.started": "2023-07-31T16:35:38.096849Z",
          "shell.execute_reply": "2023-07-31T16:35:38.154595Z"
        },
        "trusted": true,
        "id": "uQ9DV-FL0woH",
        "outputId": "0885672c-d2a7-4be0-d1ab-67c6b348c210"
      },
      "execution_count": null,
      "outputs": [
        {
          "name": "stdout",
          "text": "Training score:0.9974811083123426 and Test score: 1.0\n",
          "output_type": "stream"
        }
      ]
    },
    {
      "cell_type": "code",
      "source": [],
      "metadata": {
        "trusted": true,
        "id": "qCnMCjCx0woH"
      },
      "execution_count": null,
      "outputs": []
    },
    {
      "cell_type": "code",
      "source": [],
      "metadata": {
        "id": "lvqj3hxB0woI"
      },
      "execution_count": null,
      "outputs": []
    },
    {
      "cell_type": "code",
      "source": [],
      "metadata": {
        "id": "Kx3USxWS0woI"
      },
      "execution_count": null,
      "outputs": []
    }
  ]
}